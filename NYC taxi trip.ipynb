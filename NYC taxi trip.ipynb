{
 "cells": [
  {
   "metadata": {
    "trusted": true
   },
   "cell_type": "code",
   "source": "import numpy as np\nfrom datetime import datetime",
   "execution_count": 1,
   "outputs": []
  },
  {
   "metadata": {
    "trusted": true
   },
   "cell_type": "code",
   "source": "#import data\ndata = np.genfromtxt('taxi_tripdata.csv', delimiter=',', dtype=None, names=True, encoding='utf-8')",
   "execution_count": 2,
   "outputs": []
  },
  {
   "metadata": {
    "trusted": true
   },
   "cell_type": "code",
   "source": "# Convert date strings to datetime objects for pickup and dropoff times\npickup_times = np.array([datetime.strptime(dt, '%Y-%m-%d %H:%M:%S') for dt in data['lpep_pickup_datetime']])\ndropoff_times = np.array([datetime.strptime(dt, '%Y-%m-%d %H:%M:%S') for dt in data['lpep_dropoff_datetime']])",
   "execution_count": 3,
   "outputs": []
  },
  {
   "metadata": {
    "trusted": true
   },
   "cell_type": "code",
   "source": "#convert to  seconds\npickup_times = np.array([pickup_times[i].timestamp() for i in range(len(pickup_times))])",
   "execution_count": 4,
   "outputs": []
  },
  {
   "metadata": {
    "trusted": true
   },
   "cell_type": "code",
   "source": "#convert to  seconds\ndropoff_times = np.array([dropoff_times[i].timestamp() for i in range(len(dropoff_times))])",
   "execution_count": 5,
   "outputs": []
  },
  {
   "metadata": {
    "trusted": true
   },
   "cell_type": "code",
   "source": "# Calculate trip durations in minutes",
   "execution_count": 6,
   "outputs": []
  },
  {
   "metadata": {
    "trusted": true
   },
   "cell_type": "code",
   "source": "trip_duration = (dropoff_times - pickup_times) /60",
   "execution_count": 7,
   "outputs": []
  },
  {
   "metadata": {
    "trusted": true
   },
   "cell_type": "code",
   "source": "trip_duration",
   "execution_count": 8,
   "outputs": [
    {
     "output_type": "execute_result",
     "execution_count": 8,
     "data": {
      "text/plain": "array([ 4.73333333, 35.91666667,  6.03333333, ..., 22.        ,\n       32.        , 26.        ])"
     },
     "metadata": {}
    }
   ]
  },
  {
   "metadata": {
    "trusted": true
   },
   "cell_type": "code",
   "source": "#eliminate the invalid duration",
   "execution_count": 9,
   "outputs": []
  },
  {
   "metadata": {
    "trusted": true
   },
   "cell_type": "code",
   "source": "valid_duration = trip_duration > 0",
   "execution_count": 10,
   "outputs": []
  },
  {
   "metadata": {
    "trusted": true
   },
   "cell_type": "code",
   "source": "#Calculate valid speed the equation speed = distant/duration\nvalid_speed = data['trip_distance'][valid_duration] / trip_duration[valid_duration]",
   "execution_count": 11,
   "outputs": []
  },
  {
   "metadata": {
    "trusted": true
   },
   "cell_type": "code",
   "source": "valid_speed",
   "execution_count": 12,
   "outputs": [
    {
     "output_type": "execute_result",
     "execution_count": 12,
     "data": {
      "text/plain": "array([0.25352113, 0.38116009, 0.15745856, ..., 0.23318182, 0.393125  ,\n       0.43538462])"
     },
     "metadata": {}
    }
   ]
  },
  {
   "metadata": {
    "trusted": true
   },
   "cell_type": "code",
   "source": "#calculate the average speed\naverage_speed = np.mean(valid_speed)\nprint(average_speed)",
   "execution_count": 13,
   "outputs": [
    {
     "output_type": "stream",
     "text": "12.306515682486621\n",
     "name": "stdout"
    }
   ]
  },
  {
   "metadata": {
    "trusted": true
   },
   "cell_type": "code",
   "source": "# Count Trips Dropped at JFK Airport (RatecodeID == 2)\ncondition = data['RatecodeID'] == 2\ndata['RatecodeID'][condition]\njfk_trips = np.sum(condition)\nprint('Number of trips to JFK Airport: ',jfk_trips)",
   "execution_count": 14,
   "outputs": [
    {
     "output_type": "stream",
     "text": "Number of trips to JFK Airport:  158\n",
     "name": "stdout"
    }
   ]
  },
  {
   "metadata": {
    "trusted": true
   },
   "cell_type": "code",
   "source": "# Count Standard rate trips  (RatecodeID == 1)\ncondition = data['RatecodeID'] == 1\ndata['RatecodeID'][condition]\nstr_trips = np.sum(condition)\nprint('Number of Standard rate trips : ',str_trips)",
   "execution_count": 15,
   "outputs": [
    {
     "output_type": "stream",
     "text": "Number of Standard rate trips :  48994\n",
     "name": "stdout"
    }
   ]
  },
  {
   "metadata": {
    "trusted": true
   },
   "cell_type": "code",
   "source": "#Calculate the average total amount\naverage_total_amount = np.mean(data['total_amount'])\nprint('the average total amount: ',average_total_amount)",
   "execution_count": 16,
   "outputs": [
    {
     "output_type": "stream",
     "text": "the average total amount:  24.20483636233287\n",
     "name": "stdout"
    }
   ]
  },
  {
   "metadata": {
    "trusted": true
   },
   "cell_type": "code",
   "source": "#Calculate the average tip amount\naverage_tip_amount = np.mean(data['tip_amount'])\nprint('the average tip amount: ',average_tip_amount)",
   "execution_count": 17,
   "outputs": [
    {
     "output_type": "stream",
     "text": "the average tip amount:  1.0586181309818259\n",
     "name": "stdout"
    }
   ]
  },
  {
   "metadata": {
    "trusted": true
   },
   "cell_type": "code",
   "source": "#How many trips include tips?\ncondition = data['tip_amount'] > 0\ndata['tip_amount'][condition]\ntrips_include_tips = np.sum(condition)\nprint('trips include tips: ',trips_include_tips)",
   "execution_count": 18,
   "outputs": [
    {
     "output_type": "stream",
     "text": "trips include tips:  26394\n",
     "name": "stdout"
    }
   ]
  },
  {
   "metadata": {
    "trusted": true
   },
   "cell_type": "code",
   "source": "# Determine the Most Common Payment Type\n\"\"\"\nPayment_type\nA numeric code signifying how the passenger paid for the trip.\n-1. Undermine payment\n1. Credit card\n2. Cash\n3. No charge\n4. Dispute\n5. Unknown\n6. Voided trip\n\"\"\"\nnp.unique(data['payment_type'], return_counts=True)",
   "execution_count": 19,
   "outputs": [
    {
     "output_type": "execute_result",
     "execution_count": 19,
     "data": {
      "text/plain": "(array([-1,  1,  2,  3,  4,  5]),\n array([32518, 29990, 20831,   307,    44,     1]))"
     },
     "metadata": {}
    }
   ]
  },
  {
   "metadata": {
    "trusted": true
   },
   "cell_type": "code",
   "source": "#now eliminate the undermine payment\ncondition = data['payment_type'] > 0\nunique ,counts = np.unique(data['payment_type'][condition], return_counts=True)",
   "execution_count": 20,
   "outputs": []
  },
  {
   "metadata": {
    "trusted": true
   },
   "cell_type": "code",
   "source": "unique",
   "execution_count": 21,
   "outputs": [
    {
     "output_type": "execute_result",
     "execution_count": 21,
     "data": {
      "text/plain": "array([1, 2, 3, 4, 5])"
     },
     "metadata": {}
    }
   ]
  },
  {
   "metadata": {
    "trusted": true
   },
   "cell_type": "code",
   "source": "counts",
   "execution_count": 22,
   "outputs": [
    {
     "output_type": "execute_result",
     "execution_count": 22,
     "data": {
      "text/plain": "array([29990, 20831,   307,    44,     1])"
     },
     "metadata": {}
    }
   ]
  },
  {
   "metadata": {
    "trusted": true
   },
   "cell_type": "code",
   "source": "most_common_payment_type = unique[np.argmax(counts)]\nmost_common_payment_type",
   "execution_count": 23,
   "outputs": [
    {
     "output_type": "execute_result",
     "execution_count": 23,
     "data": {
      "text/plain": "1"
     },
     "metadata": {}
    }
   ]
  },
  {
   "metadata": {
    "trusted": true
   },
   "cell_type": "code",
   "source": "# 1 is Credit card\nprint('credit card payments are the most popular kind. id=',most_common_payment_type)",
   "execution_count": 24,
   "outputs": [
    {
     "output_type": "stream",
     "text": "credit card payments are the most popular kind. id= 1\n",
     "name": "stdout"
    }
   ]
  },
  {
   "metadata": {
    "trusted": true
   },
   "cell_type": "code",
   "source": "#Calculate the percentage of payment methods that are made via credit card\ntotal_payment_type = np.sum(counts)\ntotal_payment_type",
   "execution_count": 25,
   "outputs": [
    {
     "output_type": "execute_result",
     "execution_count": 25,
     "data": {
      "text/plain": "51173"
     },
     "metadata": {}
    }
   ]
  },
  {
   "metadata": {
    "trusted": true
   },
   "cell_type": "code",
   "source": "credit_card_total = counts[0]\ncredit_card_total",
   "execution_count": 26,
   "outputs": [
    {
     "output_type": "execute_result",
     "execution_count": 26,
     "data": {
      "text/plain": "29990"
     },
     "metadata": {}
    }
   ]
  },
  {
   "metadata": {
    "trusted": true
   },
   "cell_type": "code",
   "source": "#The equation (credit card total / total payment type)*100\npercentage_of_credit_card = (credit_card_total/total_payment_type)*100\npercentage_of_credit_card",
   "execution_count": 27,
   "outputs": [
    {
     "output_type": "execute_result",
     "execution_count": 27,
     "data": {
      "text/plain": "58.605123795751666"
     },
     "metadata": {}
    }
   ]
  },
  {
   "metadata": {
    "trusted": true
   },
   "cell_type": "code",
   "source": "print('the percentage of payment methods that are made via credit card: '+str(percentage_of_credit_card)+'%')",
   "execution_count": 28,
   "outputs": [
    {
     "output_type": "stream",
     "text": "the percentage of payment methods that are made via credit card: 58.605123795751666%\n",
     "name": "stdout"
    }
   ]
  }
 ],
 "metadata": {
  "kernelspec": {
   "name": "python3",
   "display_name": "Python 3",
   "language": "python"
  },
  "language_info": {
   "name": "python",
   "version": "3.10.4",
   "mimetype": "text/x-python",
   "codemirror_mode": {
    "name": "ipython",
    "version": 3
   },
   "pygments_lexer": "ipython3",
   "nbconvert_exporter": "python",
   "file_extension": ".py"
  }
 },
 "nbformat": 4,
 "nbformat_minor": 2
}